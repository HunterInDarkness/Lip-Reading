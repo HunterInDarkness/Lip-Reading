{
  "nbformat": 4,
  "nbformat_minor": 0,
  "metadata": {
    "colab": {
      "name": "LipNetBASE.ipynb",
      "provenance": [],
      "collapsed_sections": [
        "rGhsWz1YK2q3",
        "QOXvDmccK7Wl",
        "2SGQGqCaJuxC"
      ],
      "include_colab_link": true
    },
    "kernelspec": {
      "name": "python3",
      "display_name": "Python 3"
    },
    "accelerator": "GPU"
  },
  "cells": [
    {
      "cell_type": "markdown",
      "metadata": {
        "id": "view-in-github",
        "colab_type": "text"
      },
      "source": [
        "<a href=\"https://colab.research.google.com/github/HunterInDarkness/Lip-Reading/blob/master/LipNetBASE.ipynb\" target=\"_parent\"><img src=\"https://colab.research.google.com/assets/colab-badge.svg\" alt=\"Open In Colab\"/></a>"
      ]
    },
    {
      "cell_type": "code",
      "metadata": {
        "id": "6pDj3oZBFE0R",
        "colab_type": "code",
        "colab": {}
      },
      "source": [
        "import os\n",
        "import cv2\n",
        "import torch\n",
        "import numpy as np\n",
        "import pandas as pd\n",
        "\n",
        "import torch.nn as nn\n",
        "import torch.nn.functional as F\n",
        "from torch.autograd import Variable\n",
        "from torch.utils.data import DataLoader\n",
        "from torch.utils.data import Dataset\n",
        "\n",
        "from collections import OrderedDict\n",
        "\n",
        "import torchvision\n",
        "import torchvision.transforms as transforms\n",
        "from datetime import datetime\n",
        "\n",
        "#from LipReadDataTrain import ReadData\n",
        "#from LipNet import LipNet, LipSeqLoss\n",
        "#from LipReadDataTest import ReadData as ReadDataTest"
      ],
      "execution_count": 0,
      "outputs": []
    },
    {
      "cell_type": "markdown",
      "metadata": {
        "id": "yCdN67-bKufT",
        "colab_type": "text"
      },
      "source": [
        "###  LipReadDataTrain.py"
      ]
    },
    {
      "cell_type": "code",
      "metadata": {
        "id": "68vDmcrzH57e",
        "colab_type": "code",
        "colab": {}
      },
      "source": [
        "class ReadData(Dataset):\n",
        "\n",
        "    def __init__(self, image_root, label_root, seq_max_lens):\n",
        "        self.seq_max_lens = seq_max_lens\n",
        "        self.data = []\n",
        "        self.data_root = image_root\n",
        "        with open(label_root, 'r', encoding='utf8') as f:\n",
        "            lines = f.readlines()\n",
        "            lines = [line.strip().split('\\t') for line in lines]\n",
        "            self.dictionary = sorted(np.unique([line[1] for line in lines])) \n",
        "            pic_path = [image_root + '/' + line[0] for line in lines] \n",
        "            self.lengths = [len(os.listdir(path)) for path in pic_path]\n",
        "            \n",
        "            save_dict = pd.DataFrame(self.dictionary, columns=['dict'])\n",
        "            save_dict.to_csv('./dictionary/dictionary.csv', encoding='utf8', index=None)  #save dict\n",
        "\n",
        "            self.data = [(line[0], self.dictionary.index(line[1]), length) for line, length in zip(lines, self.lengths)]\n",
        "            self.data = list(filter(lambda sample: sample[-1] <= self.seq_max_lens, self.data))      \n",
        "\n",
        "\n",
        "    def __len__(self):\n",
        "        return len(self.data)\n",
        "\n",
        "    def __getitem__(self, idx):\n",
        "        (path, label, pic_nums) = self.data[idx]\n",
        "        path = os.path.join(self.data_root, path)\n",
        "        files = [os.path.join(path, ('{}' + '.png').format(i)) for i in range(1, pic_nums+1)]\n",
        "        files = filter(lambda path: os.path.exists(path), files)\n",
        "        frames = [cv2.imread(file) for file in files ] \n",
        "        frames_ = [cv2.cvtColor(img, cv2.COLOR_BGR2RGB) for img in frames]       \n",
        "        length = len(frames_)\n",
        "        channels = 3\n",
        "        picture_h_w = 112\n",
        "        vlm = torch.zeros((channels, self.seq_max_lens, picture_h_w, picture_h_w))\n",
        "        \n",
        "        for i in range(len(frames_)):\n",
        "            result = transforms.Compose([\n",
        "                transforms.ToPILImage(),\n",
        "                transforms.Resize((picture_h_w, picture_h_w)),\n",
        "                transforms.CenterCrop((picture_h_w, picture_h_w)),\n",
        "                transforms.ToTensor(),\n",
        "                transforms.Normalize([0, 0, 0], [1, 1, 1]) \n",
        "            ])(frames_[i])\n",
        "            vlm[:, i] = result\n",
        "        \n",
        "        return {'volume': vlm, 'label': torch.LongTensor([label]), 'length': length}"
      ],
      "execution_count": 0,
      "outputs": []
    },
    {
      "cell_type": "markdown",
      "metadata": {
        "id": "rGhsWz1YK2q3",
        "colab_type": "text"
      },
      "source": [
        "### LipReadDataTest.py"
      ]
    },
    {
      "cell_type": "code",
      "metadata": {
        "id": "ZChHHLypHXB1",
        "colab_type": "code",
        "colab": {}
      },
      "source": [
        "class ReadData(Dataset):\n",
        "\n",
        "    def __init__(self, image_root, seq_max_lens=15):\n",
        "        self.seq_max_lens = seq_max_lens\n",
        "        self.data_root = image_root\n",
        "        self.data = []\n",
        "\n",
        "        # linux: /   windows:\\\\\n",
        "        pic_file_path = [root for root, dirs, files in os.walk(self.data_root) if root.split('/')[-1]!=self.data_root.split('/')[-1]]\n",
        "        file_names = [i.split('/')[-1] for i in pic_file_path]\n",
        "\n",
        "        self.lengths = [len(os.listdir(path)) for path in pic_file_path]\n",
        "        self.data = [(file_name, length,) for file_name, length in zip(file_names, self.lengths)]        \n",
        "        self.data = list(filter(lambda sample: sample[-1] <= self.seq_max_lens, self.data)) \n",
        "   \n",
        "    def __len__(self):\n",
        "        return len(self.data)\n",
        "\n",
        "    def __getitem__(self, idx):  \n",
        "        (path, pic_nums) = self.data[idx]\n",
        "        root_add_filename = os.path.join(self.data_root, path)\n",
        "        files = [os.path.join(root_add_filename, ('{}' + '.png').format(i)) for i in range(1, pic_nums+1)]\n",
        "        files = filter(lambda path: os.path.exists(path), files)\n",
        "        frames = [cv2.imread(file) for file in files] \n",
        "        frames_ = [cv2.cvtColor(img, cv2.COLOR_BGR2RGB)  for img in frames]       \n",
        "        length = len(frames_)    \n",
        "        channels=3\n",
        "        picture_h_w=112\n",
        "        vlm = torch.zeros((channels, self.seq_max_lens, picture_h_w, picture_h_w))\n",
        "        for i in range(len(frames_)):\n",
        "            result = transforms.Compose([\n",
        "                transforms.ToPILImage(),\n",
        "                transforms.Resize((picture_h_w, picture_h_w)),\n",
        "                transforms.CenterCrop((picture_h_w, picture_h_w)),\n",
        "                transforms.ToTensor(),\n",
        "                transforms.Normalize([0, 0, 0], [1, 1, 1]) \n",
        "            ])(frames_[i])\n",
        "            vlm[:, i] = result       \n",
        "        return {'volume': vlm, 'length': length, 'key': path}"
      ],
      "execution_count": 0,
      "outputs": []
    },
    {
      "cell_type": "markdown",
      "metadata": {
        "id": "QOXvDmccK7Wl",
        "colab_type": "text"
      },
      "source": [
        "###  LipNet.py"
      ]
    },
    {
      "cell_type": "code",
      "metadata": {
        "id": "qANwscNeFWyA",
        "colab_type": "code",
        "colab": {}
      },
      "source": [
        "class LipSeqLoss(nn.Module):\n",
        " \n",
        "    def __init__(self):\n",
        "        super(LipSeqLoss, self).__init__()\n",
        "        self.criterion = nn.NLLLoss(reduction='none')\n",
        "\n",
        "    def forward(self, input, length, target):\n",
        "        loss = []\n",
        "        transposed = input.transpose(0, 1).contiguous()\n",
        "        for i in range(transposed.size(0)):\n",
        "            loss.append(self.criterion(transposed[i, ], target.squeeze(1)).unsqueeze(1))\n",
        "        loss = torch.cat(loss, 1)\n",
        "        \n",
        "        #GPU version\n",
        "        mask = torch.zeros(loss.size(0), loss.size(1)).float().cuda()\n",
        "        # Cpu version\n",
        "#         mask = torch.zeros(loss.size(0), loss.size(1)).float()   \n",
        "\n",
        "        for i in range(length.size(0)):\n",
        "            L = min(mask.size(1), length[i])\n",
        "            mask[i, L-1] = 1.0\n",
        "        loss = (loss * mask).sum() / mask.sum()\n",
        "        return loss\n",
        "      \n",
        "class LipNet(torch.nn.Module):\n",
        "    def __init__(self, init_features_num=64, drop_rate=0.3, type_class=313):\n",
        "        super(LipNet, self).__init__()\n",
        "        self.drop_rate = drop_rate\n",
        "        self.type_class = type_class \n",
        "\n",
        "        # Cnn\n",
        "        self.features = nn.Sequential(OrderedDict([\n",
        "            ('conv', nn.Conv3d(3, init_features_num, kernel_size=(5, 7, 7), stride=(1, 2, 2), padding=(2, 3, 3), bias=False)),\n",
        "            ('norm', nn.BatchNorm3d(init_features_num)),\n",
        "            ('relu', nn.ReLU(inplace=True)),\n",
        "            ('pool', nn.MaxPool3d(kernel_size=(1, 3, 3), stride=(1, 2, 2), padding=(0, 1, 1))), ]))\n",
        "     \n",
        "        # Rnn\n",
        "        self.gru1 = nn.GRU(64*28*28, 256, bidirectional=True, batch_first=True) \n",
        "        self.gru2 = nn.GRU(512, 256, bidirectional=True, batch_first=True)\n",
        "        # Fc\n",
        "        self.fc = nn.Sequential(\n",
        "            nn.Dropout(self.drop_rate),\n",
        "            nn.Linear(512, self.type_class) )\n",
        "        \n",
        "        \n",
        "    def forward(self, x):\n",
        "        self.gru1.flatten_parameters()\n",
        "        self.gru2.flatten_parameters()\n",
        "        # Cnn\n",
        "        cnn = self.features(x)\n",
        "        cnn = cnn.permute(0, 2, 1, 3, 4).contiguous()\n",
        "        batch, seq, channel, high, width = cnn.size()\n",
        "        cnn = cnn.view(batch, seq, -1)\n",
        "        # Rnn\n",
        "        rnn, _ = self.gru1(cnn)\n",
        "        rnn, _ = self.gru2(rnn)\n",
        "        # Fc\n",
        "        fc = self.fc(rnn).log_softmax(-1)\n",
        "        return fc"
      ],
      "execution_count": 0,
      "outputs": []
    },
    {
      "cell_type": "markdown",
      "metadata": {
        "id": "nuOgbCi5IqDu",
        "colab_type": "text"
      },
      "source": [
        "###LipNetTraining.ipynb"
      ]
    },
    {
      "cell_type": "code",
      "metadata": {
        "id": "AZYL0i9NFh9o",
        "colab_type": "code",
        "outputId": "0961e5bf-43f0-4051-e0aa-0af67d071e5e",
        "colab": {
          "base_uri": "https://localhost:8080/",
          "height": 243
        }
      },
      "source": [
        "###=============================================== 1.Data ===============================================\n",
        "train_image_file = os.path.join(os.path.abspath('.'), \"F:/ML/Competition/train/lip_train\")\n",
        "train_label_file = os.path.join(os.path.abspath('.'), \"F:/ML/Competition/train/lip_train.txt\")\n",
        "training_dataset = ReadData(train_image_file, train_label_file, seq_max_lens=24)\n",
        "training_data_loader = DataLoader(training_dataset, batch_size=20, shuffle=True, num_workers=12, drop_last=True)\n",
        "\n",
        "# GPU\n",
        "device = torch.device('cuda:0')\n",
        "# # CPU \n",
        "# device = torch.device('cpu')\n",
        "\n",
        "model = LipNet().to(device)\n",
        "optimizer = torch.optim.Adam(model.parameters(), lr=0.001)\n",
        "loss_fc = LipSeqLoss().to(device)"
      ],
      "execution_count": 0,
      "outputs": [
        {
          "output_type": "error",
          "ename": "TypeError",
          "evalue": "ignored",
          "traceback": [
            "\u001b[0;31m---------------------------------------------------------------------------\u001b[0m",
            "\u001b[0;31mTypeError\u001b[0m                                 Traceback (most recent call last)",
            "\u001b[0;32m<ipython-input-18-341794c67f56>\u001b[0m in \u001b[0;36m<module>\u001b[0;34m()\u001b[0m\n\u001b[1;32m      1\u001b[0m \u001b[0mtrain_image_file\u001b[0m \u001b[0;34m=\u001b[0m \u001b[0mos\u001b[0m\u001b[0;34m.\u001b[0m\u001b[0mpath\u001b[0m\u001b[0;34m.\u001b[0m\u001b[0mjoin\u001b[0m\u001b[0;34m(\u001b[0m\u001b[0mos\u001b[0m\u001b[0;34m.\u001b[0m\u001b[0mpath\u001b[0m\u001b[0;34m.\u001b[0m\u001b[0mabspath\u001b[0m\u001b[0;34m(\u001b[0m\u001b[0;34m'.'\u001b[0m\u001b[0;34m)\u001b[0m\u001b[0;34m,\u001b[0m \u001b[0;34m\"F:/ML/Competition/train/lip_train\"\u001b[0m\u001b[0;34m)\u001b[0m\u001b[0;34m\u001b[0m\u001b[0;34m\u001b[0m\u001b[0m\n\u001b[1;32m      2\u001b[0m \u001b[0mtrain_label_file\u001b[0m \u001b[0;34m=\u001b[0m \u001b[0mos\u001b[0m\u001b[0;34m.\u001b[0m\u001b[0mpath\u001b[0m\u001b[0;34m.\u001b[0m\u001b[0mjoin\u001b[0m\u001b[0;34m(\u001b[0m\u001b[0mos\u001b[0m\u001b[0;34m.\u001b[0m\u001b[0mpath\u001b[0m\u001b[0;34m.\u001b[0m\u001b[0mabspath\u001b[0m\u001b[0;34m(\u001b[0m\u001b[0;34m'.'\u001b[0m\u001b[0;34m)\u001b[0m\u001b[0;34m,\u001b[0m \u001b[0;34m\"F:/ML/Competition/train/lip_train.txt\"\u001b[0m\u001b[0;34m)\u001b[0m\u001b[0;34m\u001b[0m\u001b[0;34m\u001b[0m\u001b[0m\n\u001b[0;32m----> 3\u001b[0;31m \u001b[0mtraining_dataset\u001b[0m \u001b[0;34m=\u001b[0m \u001b[0mReadData\u001b[0m\u001b[0;34m(\u001b[0m\u001b[0mtrain_image_file\u001b[0m\u001b[0;34m,\u001b[0m \u001b[0mtrain_label_file\u001b[0m\u001b[0;34m,\u001b[0m \u001b[0mseq_max_lens\u001b[0m\u001b[0;34m=\u001b[0m\u001b[0;36m24\u001b[0m\u001b[0;34m)\u001b[0m\u001b[0;34m\u001b[0m\u001b[0;34m\u001b[0m\u001b[0m\n\u001b[0m\u001b[1;32m      4\u001b[0m \u001b[0mtraining_data_loader\u001b[0m \u001b[0;34m=\u001b[0m \u001b[0mDataLoader\u001b[0m\u001b[0;34m(\u001b[0m\u001b[0mtraining_dataset\u001b[0m\u001b[0;34m,\u001b[0m \u001b[0mbatch_size\u001b[0m\u001b[0;34m=\u001b[0m\u001b[0;36m20\u001b[0m\u001b[0;34m,\u001b[0m \u001b[0mshuffle\u001b[0m\u001b[0;34m=\u001b[0m\u001b[0;32mTrue\u001b[0m\u001b[0;34m,\u001b[0m \u001b[0mnum_workers\u001b[0m\u001b[0;34m=\u001b[0m\u001b[0;36m12\u001b[0m\u001b[0;34m,\u001b[0m \u001b[0mdrop_last\u001b[0m\u001b[0;34m=\u001b[0m\u001b[0;32mTrue\u001b[0m\u001b[0;34m)\u001b[0m\u001b[0;34m\u001b[0m\u001b[0;34m\u001b[0m\u001b[0m\n\u001b[1;32m      5\u001b[0m \u001b[0;34m\u001b[0m\u001b[0m\n",
            "\u001b[0;31mTypeError\u001b[0m: __init__() got multiple values for argument 'seq_max_lens'"
          ]
        }
      ]
    },
    {
      "cell_type": "code",
      "metadata": {
        "id": "6cVV8lk1Ji9F",
        "colab_type": "code",
        "colab": {}
      },
      "source": [
        "###=============================================== 2.Training ===============================================\n",
        "for epoch in range(1,1000):\n",
        "    print(epoch)\n",
        "    model.train()\n",
        "    for i_batch, sample_batched in enumerate(training_data_loader):\n",
        "        \n",
        "        input_data = Variable(sample_batched['volume']).to(device) \n",
        "        labels = Variable(sample_batched['label']).to(device)\n",
        "        length = Variable(sample_batched['length']).to(device)\n",
        "        \n",
        "        optimizer.zero_grad()\n",
        "        result = model(input_data)  \n",
        "        loss = loss_fc(result, length, labels)   \n",
        "        loss.backward()\n",
        "        optimizer.step()\n",
        "        \n",
        "    if epoch % 5 == 0:\n",
        "        current_time = datetime.now()\n",
        "        print(\"current time:\", current_time)\n",
        "        print(\"number of epoch:\", epoch)\n",
        "        print(\"current loss:\", loss)\n",
        "                   \n",
        "        # save model\n",
        "        torch.save(model.state_dict(), \"./weight/demo_net_epoch_{}.pt\".format(epoch))"
      ],
      "execution_count": 0,
      "outputs": []
    },
    {
      "cell_type": "markdown",
      "metadata": {
        "id": "2SGQGqCaJuxC",
        "colab_type": "text"
      },
      "source": [
        "###LipPredict.ipynb"
      ]
    },
    {
      "cell_type": "code",
      "metadata": {
        "id": "vlsGnD9QJ6wi",
        "colab_type": "code",
        "colab": {}
      },
      "source": [
        "###=============================================== 1.Predict ===============================================\n",
        "test_image_file = os.path.join(os.path.abspath('.'), \"data/lip_test\")\n",
        "test_dataset = ReadDataTest(test_image_file, seq_max_lens=24)\n",
        "test_data_loader = DataLoader(test_dataset, batch_size=20, shuffle=True, num_workers=8, drop_last=False)\n",
        "\n",
        "#GPU\n",
        "device = torch.device('cuda:0')\n",
        "# # CPU\n",
        "# device = torch.device('cpu')\n",
        "\n",
        "model = LipNet().to(device)\n",
        "model.load_state_dict(torch.load(\"./weight/demo_net_epoch_2.pt\"))   \n",
        "model.eval()\n",
        "\n",
        "with torch.no_grad():\n",
        "    col_key = []\n",
        "    col_pre = []\n",
        "    for i_batch, sample_batched in enumerate(test_data_loader):\n",
        "        \n",
        "        input_data = Variable(sample_batched['volume']).to(device)\n",
        "        length = Variable(sample_batched['length']).to(device)\n",
        "        \n",
        "        # linux\n",
        "        keys =[i.split('/')[-1] for i in sample_batched['key']]\n",
        "#         # windows \n",
        "#         keys =[i.split('\\\\')[-1] for i in sample_batched['key']]\n",
        "\n",
        "        outputs = model(input_data)\n",
        "        average_volumns = torch.sum(outputs.data, 1)\n",
        "        for i in range(outputs.size(0)):\n",
        "            average_volumns[i] = outputs[i, :length[i]].sum(0)\n",
        "        _, max_indexs = torch.max(average_volumns, 1)\n",
        "        max_indexs = max_indexs.cpu().numpy().tolist()\n",
        "        \n",
        "        col_key += keys\n",
        "        col_pre += max_indexs"
      ],
      "execution_count": 0,
      "outputs": []
    },
    {
      "cell_type": "code",
      "metadata": {
        "id": "doOAIWtGKX6t",
        "colab_type": "code",
        "colab": {}
      },
      "source": [
        "###=============================================== 2.file to submit ===============================================\n",
        "dictionary = pd.read_csv('./dictionary/dictionary.csv', encoding='utf8')\n",
        "word_list = dictionary.dict.tolist()\n",
        "character_label = [word_list[i] for i in col_pre]\n",
        "predict = pd.DataFrame([col_key, character_label]).T\n",
        "predict.to_csv('预测结果.csv',encoding='utf8', index=None, header=None)"
      ],
      "execution_count": 0,
      "outputs": []
    }
  ]
}